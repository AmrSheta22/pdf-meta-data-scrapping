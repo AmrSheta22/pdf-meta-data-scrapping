{
 "cells": [
  {
   "cell_type": "markdown",
   "metadata": {},
   "source": [
    "Here I extracted the meta data of a dataset about school grading process"
   ]
  },
  {
   "cell_type": "code",
   "execution_count": 1,
   "metadata": {
    "ExecuteTime": {
     "end_time": "2021-12-06T12:43:06.919455Z",
     "start_time": "2021-12-06T12:43:06.435470Z"
    }
   },
   "outputs": [],
   "source": [
    "import regex as re\n",
    "#pypdf didn't give good results so I had to use a better version :) \n",
    "import pdfplumber\n",
    "import pandas as pd"
   ]
  },
  {
   "cell_type": "code",
   "execution_count": 2,
   "metadata": {
    "ExecuteTime": {
     "end_time": "2021-12-06T12:43:07.078492Z",
     "start_time": "2021-12-06T12:43:06.920456Z"
    }
   },
   "outputs": [
    {
     "name": "stdout",
     "output_type": "stream",
     "text": [
      "Column  Definition \n",
      "DISTRICT_NUMBER  The number of the school district. This does not include independent school \n",
      "authorities. \n",
      " \n",
      "This value is a 3-digit string (e.g. 005, 023). However, leading zeros may be \n",
      "automatically removed when opening the file in Excel. See Working with the \n",
      "Graduation Assessments extract guide for tips on how to prevent this from \n",
      "happening. \n",
      " \n",
      "For the actual name of the district, please see the column DISTRICT_NAME. \n",
      " \n",
      "DISTRICT_NAME  The name of the school district. This does not include independent school \n",
      "authorities. \n",
      " \n",
      "For the number of the district, please see the column DISTRICT_NUMBER. \n",
      " \n",
      "SUB_POPULATION  Use this column to select a subset of the student population. Set this column to \n",
      "'ALL STUDENTS' to see how all students performed. \n",
      " \n",
      " Values: \n",
      "‘ALL STUDENTS’ \n",
      "‘INDINGENOUS’ \n",
      "‘NON INDIGENOUS’ \n",
      "‘NON SPECIAL NEEDS’ \n",
      "‘SPECIAL NEEDS’ \n",
      " \n",
      "The binary pairs (mutually exclusive) are 'INDINGENOUS ' and 'NON \n",
      "INDINGENOUS'; 'SPECIAL NEEDS ' and ‘NON SPECIAL NEEDS'. \n",
      " \n",
      "'SPECIAL NEEDS' includes all 12 Special Need categories (including P – Gifted). \n",
      " \n",
      "GRADE  The grade the student was in when they wrote the assessment.  For this dataset \n",
      "the only value is ‘10’. \n",
      "GRAD_ASSESSMENT_DESC  The name of the graduation assessment written. \n",
      " \n",
      "Values: \n",
      "‘Literacy Assessment 10’ \n",
      "‘Numeracy Assessment 10’ \n",
      " \n",
      "NUMBER_STUDENT  The number of students enrolled in Grade 10 at the district or province level. \n",
      "NUMBER_WRITERS  The number of students enrolled in Grade 10 at the district or province level who \n",
      "wrote the assessment. \n",
      " \n",
      "NUMBER_EMERGING  The number of students performing at an emerging level on a test result.   \n",
      " \n",
      "NUMBER_DEVELOPING  The number of students performing at a developing level on a test result.   \n",
      " \n",
      "2 \n",
      " \n"
     ]
    }
   ],
   "source": [
    "with pdfplumber.open(r\"C:\\Users\\amrsh\\Downloads\\graduation-assessments-field-definitions-2021-03.pdf\") as pdf:\n",
    "    first_page = pdf.pages[0]\n",
    "    print(first_page.extract_text())"
   ]
  },
  {
   "cell_type": "code",
   "execution_count": 3,
   "metadata": {
    "ExecuteTime": {
     "end_time": "2021-12-06T12:43:07.094496Z",
     "start_time": "2021-12-06T12:43:07.079493Z"
    }
   },
   "outputs": [],
   "source": [
    "page = first_page.extract_text()"
   ]
  },
  {
   "cell_type": "code",
   "execution_count": 4,
   "metadata": {
    "ExecuteTime": {
     "end_time": "2021-12-06T12:43:07.110499Z",
     "start_time": "2021-12-06T12:43:07.095496Z"
    }
   },
   "outputs": [],
   "source": [
    "s = page.splitlines()"
   ]
  },
  {
   "cell_type": "code",
   "execution_count": 5,
   "metadata": {
    "ExecuteTime": {
     "end_time": "2021-12-06T12:43:07.126504Z",
     "start_time": "2021-12-06T12:43:07.111501Z"
    }
   },
   "outputs": [
    {
     "data": {
      "text/plain": [
       "['DISTRICT_NUMBER  The number of the school district. This does not include independent school ',\n",
       " 'authorities. ',\n",
       " ' ',\n",
       " 'This value is a 3-digit string (e.g. 005, 023). However, leading zeros may be ',\n",
       " 'automatically removed when opening the file in Excel. See Working with the ',\n",
       " 'Graduation Assessments extract guide for tips on how to prevent this from ',\n",
       " 'happening. ',\n",
       " ' ',\n",
       " 'For the actual name of the district, please see the column DISTRICT_NAME. ',\n",
       " ' ',\n",
       " 'DISTRICT_NAME  The name of the school district. This does not include independent school ',\n",
       " 'authorities. ',\n",
       " ' ',\n",
       " 'For the number of the district, please see the column DISTRICT_NUMBER. ',\n",
       " ' ',\n",
       " 'SUB_POPULATION  Use this column to select a subset of the student population. Set this column to ',\n",
       " \"'ALL STUDENTS' to see how all students performed. \",\n",
       " ' ',\n",
       " ' Values: ',\n",
       " '‘ALL STUDENTS’ ',\n",
       " '‘INDINGENOUS’ ',\n",
       " '‘NON INDIGENOUS’ ',\n",
       " '‘NON SPECIAL NEEDS’ ',\n",
       " '‘SPECIAL NEEDS’ ',\n",
       " ' ',\n",
       " \"The binary pairs (mutually exclusive) are 'INDINGENOUS ' and 'NON \",\n",
       " \"INDINGENOUS'; 'SPECIAL NEEDS ' and ‘NON SPECIAL NEEDS'. \",\n",
       " ' ',\n",
       " \"'SPECIAL NEEDS' includes all 12 Special Need categories (including P – Gifted). \",\n",
       " ' ',\n",
       " 'GRADE  The grade the student was in when they wrote the assessment.  For this dataset ',\n",
       " 'the only value is ‘10’. ',\n",
       " 'GRAD_ASSESSMENT_DESC  The name of the graduation assessment written. ',\n",
       " ' ',\n",
       " 'Values: ',\n",
       " '‘Literacy Assessment 10’ ',\n",
       " '‘Numeracy Assessment 10’ ',\n",
       " ' ',\n",
       " 'NUMBER_STUDENT  The number of students enrolled in Grade 10 at the district or province level. ',\n",
       " 'NUMBER_WRITERS  The number of students enrolled in Grade 10 at the district or province level who ',\n",
       " 'wrote the assessment. ',\n",
       " ' ',\n",
       " 'NUMBER_EMERGING  The number of students performing at an emerging level on a test result.   ',\n",
       " ' ',\n",
       " 'NUMBER_DEVELOPING  The number of students performing at a developing level on a test result.   ',\n",
       " ' ',\n",
       " '2 ',\n",
       " ' ']"
      ]
     },
     "execution_count": 5,
     "metadata": {},
     "output_type": "execute_result"
    }
   ],
   "source": [
    "s = s[1:]\n",
    "s"
   ]
  },
  {
   "cell_type": "markdown",
   "metadata": {},
   "source": [
    "Testing how to extract info for the dataframe"
   ]
  },
  {
   "cell_type": "code",
   "execution_count": 6,
   "metadata": {
    "ExecuteTime": {
     "end_time": "2021-12-06T12:43:07.142508Z",
     "start_time": "2021-12-06T12:43:07.127503Z"
    }
   },
   "outputs": [],
   "source": [
    "column = []\n",
    "defen = []\n",
    "reg = re.compile(\"^[A-Z]{2,}\")\n",
    "reg1 = re.compile(\"^[A-Z]{2,}'\")\n",
    "for i in s:\n",
    "    if re.match(reg, i) and not re.match(reg1, i):\n",
    "        sp = i.split(\" \")\n",
    "        column.append(sp[0])\n",
    "        defen.append(\" \".join(sp[1:]))\n",
    "    else:\n",
    "        defen[-1] = defen[-1]+i\n",
    "        \n"
   ]
  },
  {
   "cell_type": "markdown",
   "metadata": {},
   "source": [
    "Actual Exraction (Full Code)"
   ]
  },
  {
   "cell_type": "code",
   "execution_count": 7,
   "metadata": {
    "ExecuteTime": {
     "end_time": "2021-12-06T12:43:07.317678Z",
     "start_time": "2021-12-06T12:43:07.144508Z"
    }
   },
   "outputs": [],
   "source": [
    "column = []\n",
    "defen = []\n",
    "with pdfplumber.open(r\"C:\\Users\\amrsh\\Downloads\\graduation-assessments-field-definitions-2021-03.pdf\") as pdf:\n",
    "\n",
    "    for i in range(2):\n",
    "        page = pdf.pages[i].extract_text()\n",
    "        s = page.splitlines()\n",
    "        s = s[1:]\n",
    "        reg = re.compile(\"^[A-Z]{2,}\")\n",
    "        reg1 = re.compile(\"^[A-Z]{2,}'\")\n",
    "        for i in s:\n",
    "            if re.match(reg, i) and not re.match(reg1, i):\n",
    "                sp = i.split(\" \")\n",
    "                column.append(sp[0])\n",
    "                defen.append(\" \".join(sp[1:]))\n",
    "            else:\n",
    "                defen[-1] = defen[-1]+i"
   ]
  },
  {
   "cell_type": "code",
   "execution_count": 8,
   "metadata": {
    "ExecuteTime": {
     "end_time": "2021-12-06T12:43:07.332685Z",
     "start_time": "2021-12-06T12:43:07.319679Z"
    }
   },
   "outputs": [
    {
     "name": "stdout",
     "output_type": "stream",
     "text": [
      "['DISTRICT_NUMBER', 'DISTRICT_NAME', 'SUB_POPULATION', 'GRADE', 'GRAD_ASSESSMENT_DESC', 'NUMBER_STUDENT', 'NUMBER_WRITERS', 'NUMBER_EMERGING', 'NUMBER_DEVELOPING', 'NUMBER_PROFICIENT', 'NUMBER_EXTENDING', 'SCORE'] [' The number of the school district. This does not include independent school authorities.  This value is a 3-digit string (e.g. 005, 023). However, leading zeros may be automatically removed when opening the file in Excel. See Working with the Graduation Assessments extract guide for tips on how to prevent this from happening.  For the actual name of the district, please see the column DISTRICT_NAME.  ', ' The name of the school district. This does not include independent school authorities.  For the number of the district, please see the column DISTRICT_NUMBER.  ', \" Use this column to select a subset of the student population. Set this column to 'ALL STUDENTS' to see how all students performed.   Values: ‘ALL STUDENTS’ ‘INDINGENOUS’ ‘NON INDIGENOUS’ ‘NON SPECIAL NEEDS’ ‘SPECIAL NEEDS’  The binary pairs (mutually exclusive) are 'INDINGENOUS ' and 'NON INDINGENOUS'; 'SPECIAL NEEDS ' and ‘NON SPECIAL NEEDS'.  'SPECIAL NEEDS' includes all 12 Special Need categories (including P – Gifted).  \", ' The grade the student was in when they wrote the assessment.  For this dataset the only value is ‘10’. ', ' The name of the graduation assessment written.  Values: ‘Literacy Assessment 10’ ‘Numeracy Assessment 10’  ', ' The number of students enrolled in Grade 10 at the district or province level. ', ' The number of students enrolled in Grade 10 at the district or province level who wrote the assessment.  ', ' The number of students performing at an emerging level on a test result.    ', ' The number of students performing at a developing level on a test result.    2  ', ' The number of students performing at a proficient level on a test result.    ', ' The number of students performing at an extending level on a test result.    ', ' The total score for writers at the district or province level.   3  ']\n"
     ]
    }
   ],
   "source": [
    "print(column, defen)"
   ]
  },
  {
   "cell_type": "code",
   "execution_count": 9,
   "metadata": {
    "ExecuteTime": {
     "end_time": "2021-12-06T12:43:07.348698Z",
     "start_time": "2021-12-06T12:43:07.333686Z"
    }
   },
   "outputs": [],
   "source": [
    "dic = {\"column\":column,\n",
    "      \"definitions\": defen}"
   ]
  },
  {
   "cell_type": "code",
   "execution_count": 10,
   "metadata": {
    "ExecuteTime": {
     "end_time": "2021-12-06T12:43:07.364283Z",
     "start_time": "2021-12-06T12:43:07.349699Z"
    }
   },
   "outputs": [],
   "source": [
    "data = pd.DataFrame(dic)"
   ]
  },
  {
   "cell_type": "code",
   "execution_count": 15,
   "metadata": {
    "ExecuteTime": {
     "end_time": "2021-12-06T19:29:54.519428Z",
     "start_time": "2021-12-06T19:29:54.464413Z"
    },
    "scrolled": true
   },
   "outputs": [
    {
     "data": {
      "text/html": [
       "<div>\n",
       "<style scoped>\n",
       "    .dataframe tbody tr th:only-of-type {\n",
       "        vertical-align: middle;\n",
       "    }\n",
       "\n",
       "    .dataframe tbody tr th {\n",
       "        vertical-align: top;\n",
       "    }\n",
       "\n",
       "    .dataframe thead th {\n",
       "        text-align: right;\n",
       "    }\n",
       "</style>\n",
       "<table border=\"1\" class=\"dataframe\">\n",
       "  <thead>\n",
       "    <tr style=\"text-align: right;\">\n",
       "      <th></th>\n",
       "      <th>column</th>\n",
       "      <th>definitions</th>\n",
       "    </tr>\n",
       "  </thead>\n",
       "  <tbody>\n",
       "    <tr>\n",
       "      <th>0</th>\n",
       "      <td>DISTRICT_NUMBER</td>\n",
       "      <td>The number of the school district. This does ...</td>\n",
       "    </tr>\n",
       "    <tr>\n",
       "      <th>1</th>\n",
       "      <td>DISTRICT_NAME</td>\n",
       "      <td>The name of the school district. This does no...</td>\n",
       "    </tr>\n",
       "    <tr>\n",
       "      <th>2</th>\n",
       "      <td>SUB_POPULATION</td>\n",
       "      <td>Use this column to select a subset of the stu...</td>\n",
       "    </tr>\n",
       "    <tr>\n",
       "      <th>3</th>\n",
       "      <td>GRADE</td>\n",
       "      <td>The grade the student was in when they wrote ...</td>\n",
       "    </tr>\n",
       "    <tr>\n",
       "      <th>4</th>\n",
       "      <td>GRAD_ASSESSMENT_DESC</td>\n",
       "      <td>The name of the graduation assessment written...</td>\n",
       "    </tr>\n",
       "    <tr>\n",
       "      <th>5</th>\n",
       "      <td>NUMBER_STUDENT</td>\n",
       "      <td>The number of students enrolled in Grade 10 a...</td>\n",
       "    </tr>\n",
       "    <tr>\n",
       "      <th>6</th>\n",
       "      <td>NUMBER_WRITERS</td>\n",
       "      <td>The number of students enrolled in Grade 10 a...</td>\n",
       "    </tr>\n",
       "    <tr>\n",
       "      <th>7</th>\n",
       "      <td>NUMBER_EMERGING</td>\n",
       "      <td>The number of students performing at an emerg...</td>\n",
       "    </tr>\n",
       "    <tr>\n",
       "      <th>8</th>\n",
       "      <td>NUMBER_DEVELOPING</td>\n",
       "      <td>The number of students performing at a develo...</td>\n",
       "    </tr>\n",
       "    <tr>\n",
       "      <th>9</th>\n",
       "      <td>NUMBER_PROFICIENT</td>\n",
       "      <td>The number of students performing at a profic...</td>\n",
       "    </tr>\n",
       "    <tr>\n",
       "      <th>10</th>\n",
       "      <td>NUMBER_EXTENDING</td>\n",
       "      <td>The number of students performing at an exten...</td>\n",
       "    </tr>\n",
       "    <tr>\n",
       "      <th>11</th>\n",
       "      <td>SCORE</td>\n",
       "      <td>The total score for writers at the district o...</td>\n",
       "    </tr>\n",
       "  </tbody>\n",
       "</table>\n",
       "</div>"
      ],
      "text/plain": [
       "                  column                                        definitions\n",
       "0        DISTRICT_NUMBER   The number of the school district. This does ...\n",
       "1          DISTRICT_NAME   The name of the school district. This does no...\n",
       "2         SUB_POPULATION   Use this column to select a subset of the stu...\n",
       "3                  GRADE   The grade the student was in when they wrote ...\n",
       "4   GRAD_ASSESSMENT_DESC   The name of the graduation assessment written...\n",
       "5         NUMBER_STUDENT   The number of students enrolled in Grade 10 a...\n",
       "6         NUMBER_WRITERS   The number of students enrolled in Grade 10 a...\n",
       "7        NUMBER_EMERGING   The number of students performing at an emerg...\n",
       "8      NUMBER_DEVELOPING   The number of students performing at a develo...\n",
       "9      NUMBER_PROFICIENT   The number of students performing at a profic...\n",
       "10      NUMBER_EXTENDING   The number of students performing at an exten...\n",
       "11                 SCORE   The total score for writers at the district o..."
      ]
     },
     "execution_count": 15,
     "metadata": {},
     "output_type": "execute_result"
    }
   ],
   "source": [
    "data"
   ]
  },
  {
   "cell_type": "code",
   "execution_count": null,
   "metadata": {},
   "outputs": [],
   "source": []
  }
 ],
 "metadata": {
  "kernelspec": {
   "display_name": "Python 3",
   "language": "python",
   "name": "python3"
  },
  "language_info": {
   "codemirror_mode": {
    "name": "ipython",
    "version": 3
   },
   "file_extension": ".py",
   "mimetype": "text/x-python",
   "name": "python",
   "nbconvert_exporter": "python",
   "pygments_lexer": "ipython3",
   "version": "3.8.5"
  },
  "varInspector": {
   "cols": {
    "lenName": 16,
    "lenType": 16,
    "lenVar": 40
   },
   "kernels_config": {
    "python": {
     "delete_cmd_postfix": "",
     "delete_cmd_prefix": "del ",
     "library": "var_list.py",
     "varRefreshCmd": "print(var_dic_list())"
    },
    "r": {
     "delete_cmd_postfix": ") ",
     "delete_cmd_prefix": "rm(",
     "library": "var_list.r",
     "varRefreshCmd": "cat(var_dic_list()) "
    }
   },
   "types_to_exclude": [
    "module",
    "function",
    "builtin_function_or_method",
    "instance",
    "_Feature"
   ],
   "window_display": false
  }
 },
 "nbformat": 4,
 "nbformat_minor": 4
}
